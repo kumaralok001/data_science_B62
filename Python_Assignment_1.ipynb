{
 "cells": [
  {
   "cell_type": "code",
   "execution_count": null,
   "id": "6ae95958",
   "metadata": {},
   "outputs": [],
   "source": [
    "#### 1. Simple Message: Store a message in a variable, and then print that message."
   ]
  },
  {
   "cell_type": "code",
   "execution_count": 1,
   "id": "3521e75d",
   "metadata": {},
   "outputs": [],
   "source": [
    "##Creating a variable\n",
    "var = (\"Hello, My name is Alok\")"
   ]
  },
  {
   "cell_type": "code",
   "execution_count": 2,
   "id": "535332f7",
   "metadata": {},
   "outputs": [
    {
     "name": "stdout",
     "output_type": "stream",
     "text": [
      "Hello, My name is Alok\n"
     ]
    }
   ],
   "source": [
    "##Printing the message stored in variable \"var\"\n",
    "print(var)"
   ]
  },
  {
   "cell_type": "code",
   "execution_count": null,
   "id": "d0922699",
   "metadata": {},
   "outputs": [],
   "source": []
  },
  {
   "cell_type": "code",
   "execution_count": null,
   "id": "86c35e8d",
   "metadata": {},
   "outputs": [],
   "source": [
    "#### 2. Store a message in a variable and print that message. \n",
    "#### Then change the value of your variable to a new message and print the new message."
   ]
  },
  {
   "cell_type": "code",
   "execution_count": 3,
   "id": "1316930d",
   "metadata": {},
   "outputs": [
    {
     "name": "stdout",
     "output_type": "stream",
     "text": [
      "Learning Python is very Difficult\n"
     ]
    }
   ],
   "source": [
    "var1 = (\"Learning Python is very Difficult\")\n",
    "print(var1)"
   ]
  },
  {
   "cell_type": "code",
   "execution_count": 4,
   "id": "6d769a7a",
   "metadata": {},
   "outputs": [
    {
     "name": "stdout",
     "output_type": "stream",
     "text": [
      "Learning Python is very Simple as simple as English\n"
     ]
    }
   ],
   "source": [
    "var1 = (\"Learning Python is very Simple as simple as English\")\n",
    "print(var1)"
   ]
  },
  {
   "cell_type": "code",
   "execution_count": null,
   "id": "400c7893",
   "metadata": {},
   "outputs": [],
   "source": []
  },
  {
   "cell_type": "code",
   "execution_count": null,
   "id": "3ad40205",
   "metadata": {},
   "outputs": [],
   "source": [
    "#### 3. Store a person’s name in a variable and print a message to that person. \n",
    "#### Your message should be simple, such as, “Hello Eric, would you like to learn some Python today?”"
   ]
  },
  {
   "cell_type": "code",
   "execution_count": 5,
   "id": "4489b8fe",
   "metadata": {},
   "outputs": [
    {
     "name": "stdout",
     "output_type": "stream",
     "text": [
      "Hello Bose Sir, Would you like to teach today some new function in Python\n"
     ]
    }
   ],
   "source": [
    "name = \"Bose\"\n",
    "print(\"Hello {} Sir, Would you like to teach today some new function in Python\".format(name))"
   ]
  },
  {
   "cell_type": "code",
   "execution_count": null,
   "id": "e587015f",
   "metadata": {},
   "outputs": [],
   "source": []
  },
  {
   "cell_type": "code",
   "execution_count": null,
   "id": "1b1d61b8",
   "metadata": {},
   "outputs": [],
   "source": [
    "#### 4. Find a quote from a famous person you admire. Print the quote and the name of its author.\n",
    "####    Your output should look something like the following, including the quotation marks:\n",
    "####    Albert Einstein once said, \"A person who never made a mistake never tried anything new.\""
   ]
  },
  {
   "cell_type": "code",
   "execution_count": 7,
   "id": "13e78b7f",
   "metadata": {},
   "outputs": [
    {
     "name": "stdout",
     "output_type": "stream",
     "text": [
      "Abraham Lincoln once said, \"I walk slowly but never backwards\"\n"
     ]
    }
   ],
   "source": [
    "var2 =\"Abraham Lincoln once said, \\\"I walk slowly but never backwards\\\"\"\n",
    "print(var2)"
   ]
  },
  {
   "cell_type": "code",
   "execution_count": null,
   "id": "1e80478a",
   "metadata": {},
   "outputs": [],
   "source": [
    "#### 5. Repeat Exercise 4, but this time store the famous person’s name in a variable called famous_person.\n",
    "####    Then compose your message and store it in a new variable called message. Print your message."
   ]
  },
  {
   "cell_type": "code",
   "execution_count": 8,
   "id": "2412d638",
   "metadata": {},
   "outputs": [
    {
     "name": "stdout",
     "output_type": "stream",
     "text": [
      "Abraham Lincoln once said, \"I walk slowly but never backwards\" \n"
     ]
    }
   ],
   "source": [
    "famous_person = 'Abraham Lincoln'\n",
    "message = \"I walk slowly but never backwards\"\n",
    "print(\"{0} once said, \\\"{1}\\\" \".format(famous_person,message))"
   ]
  },
  {
   "cell_type": "code",
   "execution_count": null,
   "id": "949ed109",
   "metadata": {},
   "outputs": [],
   "source": [
    "#### 6. Write addition, subtraction, multiplication, and division operations that each result in the number 8. \n",
    "#### Be sure to enclose your operations in print statements to see the results. You should create four lines that look \n",
    "#### like this: print (5 + 3)\n",
    "#### Your output should simply be four lines with the number 8 appearing once on each line."
   ]
  },
  {
   "cell_type": "code",
   "execution_count": 1,
   "id": "f95487e4",
   "metadata": {},
   "outputs": [
    {
     "name": "stdout",
     "output_type": "stream",
     "text": [
      "8\n",
      "8\n",
      "8\n",
      "8\n"
     ]
    }
   ],
   "source": [
    "print(int(5+3))      #### Addition\n",
    "print(int(12-4))     #### Subtraction\n",
    "print(int(2*4))      #### Multiplication\n",
    "print(int(16/2))     #### Division"
   ]
  },
  {
   "cell_type": "code",
   "execution_count": null,
   "id": "84ade8da",
   "metadata": {},
   "outputs": [],
   "source": [
    "#### 7. Store your favourite number in a variable. Then, using that variable, create a message that reveals your favourite \n",
    "####  number. Print that message."
   ]
  },
  {
   "cell_type": "code",
   "execution_count": 2,
   "id": "ceaaed26",
   "metadata": {},
   "outputs": [
    {
     "name": "stdout",
     "output_type": "stream",
     "text": [
      "The number which I like most is  3\n"
     ]
    }
   ],
   "source": [
    "fav_number = int(3)\n",
    "print(\"The number which I like most is \", fav_number)"
   ]
  },
  {
   "cell_type": "code",
   "execution_count": null,
   "id": "a8e8ac7f",
   "metadata": {},
   "outputs": [],
   "source": [
    "#### 8. Choose two of the programs you’ve written and add at least one comment to each. \n",
    "#### If you don’t have anything specific to write because your programs are too simple at this point, just add your name \n",
    "#### and the current date at the top of each program file. Then write one sentence describing what the program does."
   ]
  },
  {
   "cell_type": "code",
   "execution_count": 4,
   "id": "f7dc0459",
   "metadata": {},
   "outputs": [
    {
     "name": "stdout",
     "output_type": "stream",
     "text": [
      "Hello, My name is Alok \t Learning Python is very Simple as simple as English\n"
     ]
    }
   ],
   "source": [
    "#### 28/06/2022\n",
    "#### Adding two programm\n",
    "var = (\"Hello, My name is Alok\") #### 1st program\n",
    "var1 = (\"Learning Python is very Simple as simple as English\") #### 2nd program\n",
    "print(var,\"\\t\", var1)"
   ]
  },
  {
   "cell_type": "code",
   "execution_count": null,
   "id": "8d38f75a",
   "metadata": {},
   "outputs": [],
   "source": [
    "#### 9. Store the names of a few of your friends in a list called names. Print each person’s name by accessing each \n",
    "#### element in the list, one at a time."
   ]
  },
  {
   "cell_type": "code",
   "execution_count": 9,
   "id": "19e3c79a",
   "metadata": {},
   "outputs": [
    {
     "name": "stdout",
     "output_type": "stream",
     "text": [
      "<class 'list'>\n",
      "alok\n",
      "rohan\n",
      "ramsha\n",
      "abhishak\n",
      "harsh\n",
      "harshit\n",
      "om\n"
     ]
    }
   ],
   "source": [
    "#### Creating a list\n",
    "names = ['alok','rohan','ramsha','abhishak','harsh','harshit','om']\n",
    "print(type(names))\n",
    "print(names[0])\n",
    "print(names[1])\n",
    "print(names[2])\n",
    "print(names[3])\n",
    "print(names[4])\n",
    "print(names[5])\n",
    "print(names[6])\n",
    "#print(names[7]) ### IndexError list index out of range"
   ]
  },
  {
   "cell_type": "code",
   "execution_count": null,
   "id": "492ba5cc",
   "metadata": {},
   "outputs": [],
   "source": [
    "#### 10.Start with the list you used in Exercise 9, but instead of just printing each person’s name, print a message to them. \n",
    "#### The text of each message should be the same, but each message should be personalized with the person’sname.\n"
   ]
  },
  {
   "cell_type": "code",
   "execution_count": 12,
   "id": "840dee4c",
   "metadata": {},
   "outputs": [
    {
     "name": "stdout",
     "output_type": "stream",
     "text": [
      "Hello alok , what about today?\n",
      "Hello rohan , what about today?\n",
      "Hello ramsha , what about today?\n",
      "Hello abhishak , what about today?\n",
      "Hello harsh , what about today?\n",
      "Hello harshit , what about today?\n",
      "Hello om , what about today?\n"
     ]
    }
   ],
   "source": [
    "for i in names:\n",
    "     print(\"Hello {} , what about today?\".format(i))"
   ]
  },
  {
   "cell_type": "code",
   "execution_count": null,
   "id": "2d552bde",
   "metadata": {},
   "outputs": [],
   "source": [
    "#### 11.Think of your favourite mode of transportation, such as a motorcycle or a car, and make a list that stores \n",
    "### several examples. Use your list to print a series of statements about these items, such as “I would like to own a \n",
    "## Honda motorcycle.”"
   ]
  },
  {
   "cell_type": "code",
   "execution_count": 16,
   "id": "d7b9d6f7",
   "metadata": {},
   "outputs": [
    {
     "name": "stdout",
     "output_type": "stream",
     "text": [
      "There are different types of Mode of Transportation. My Favourite mode of transportation is Bike\n",
      "\n",
      "For short distance around 2 to 3km I like to use cycle\n",
      "I would like to ride a Bike, also my favourite mode of transportation\n",
      "In future I would like to won a Oddi Car\n",
      "most popular mode of transportation is city-Bus\n",
      "Flight is the fastest way to travel \n"
     ]
    }
   ],
   "source": [
    "message = (\"There are different types of Mode of Transportation. My Favourite mode of transportation is Bike\\n\")\n",
    "mode = [\"cycle\",\"Bike\", \"Car\",\"Bus\",\"Flight\"]\n",
    "print(message)\n",
    "print(\"For short distance around 2 to 3km I like to use {}\".format(mode[0]))\n",
    "print(\"I would like to ride a {}, also my favourite mode of transportation\".format(mode[1]))\n",
    "print(\"In future I would like to won a Oddi {}\".format(mode[2]))\n",
    "print(\"most popular mode of transportation is city-{}\".format(mode[3]))\n",
    "print(\"{} is the fastest way to travel \".format(mode[4]))"
   ]
  },
  {
   "cell_type": "code",
   "execution_count": null,
   "id": "0a691972",
   "metadata": {},
   "outputs": [],
   "source": []
  }
 ],
 "metadata": {
  "kernelspec": {
   "display_name": "Python 3 (ipykernel)",
   "language": "python",
   "name": "python3"
  },
  "language_info": {
   "codemirror_mode": {
    "name": "ipython",
    "version": 3
   },
   "file_extension": ".py",
   "mimetype": "text/x-python",
   "name": "python",
   "nbconvert_exporter": "python",
   "pygments_lexer": "ipython3",
   "version": "3.9.12"
  }
 },
 "nbformat": 4,
 "nbformat_minor": 5
}
